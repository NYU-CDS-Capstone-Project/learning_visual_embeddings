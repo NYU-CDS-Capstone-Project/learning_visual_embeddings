{
 "cells": [
  {
   "cell_type": "code",
   "execution_count": null,
   "metadata": {},
   "outputs": [],
   "source": [
    "import numpy as np\n",
    "import pandas as pd\n",
    "\n",
    "import torch\n",
    "import torch.nn as nn\n",
    "import torch.optim as optim\n",
    "from torchvision import datasets, transforms\n",
    "from torch.autograd import Variable\n",
    "from torchvision.utils import make_grid\n",
    "from torch.utils.data.sampler import Sampler\n",
    "\n",
    "from preprocessing import generate_dataloader\n",
    "from embedding_network import EmbeddingNetwork\n",
    "from classification_network import ClassificationNetwork\n",
    "\n",
    "import matplotlib.pyplot as plt\n",
    "%matplotlib inline\n",
    "from torchviz import make_dot, make_dot_from_trace"
   ]
  },
  {
   "cell_type": "code",
   "execution_count": null,
   "metadata": {},
   "outputs": [],
   "source": [
    "# options\n",
    "DATASET = 'moving_mnist'\n",
    "TEST_SIZE, VAL_SIZE = 0.2, 0.2\n",
    "BATCH_SIZE = 64   # input batch size for training\n",
    "N_EPOCHS = 10       # number of epochs to train\n",
    "LR = 0.01        # learning rate\n",
    "DEVICE = 'cuda' if torch.cuda.is_available() else 'cpu'"
   ]
  },
  {
   "cell_type": "code",
   "execution_count": null,
   "metadata": {},
   "outputs": [],
   "source": [
    "data = np.load('/home/mihir/Desktop/GitHub/nyu/capstone_project/data/mnist_test_seq.npy')\n",
    "data = np.swapaxes(data, 0, 1)"
   ]
  },
  {
   "cell_type": "code",
   "execution_count": null,
   "metadata": {},
   "outputs": [],
   "source": [
    "train_loader, val_loader, test_loader = generate_dataloader(data, TEST_SIZE, VAL_SIZE, BATCH_SIZE)"
   ]
  },
  {
   "cell_type": "code",
   "execution_count": null,
   "metadata": {},
   "outputs": [],
   "source": [
    "def imshow(data_loader):\n",
    "    data_iter = iter(data_loader)\n",
    "    images = data_iter.next()\n",
    "\n",
    "    images = make_grid(images[0].reshape(-1, 1, 64, 64), nrow=10)\n",
    "    np_image = images.numpy()\n",
    "\n",
    "    plt.figure(figsize=(50, 20))\n",
    "    plt.imshow(np.transpose(np_image, axes=(1, 2, 0)))"
   ]
  },
  {
   "cell_type": "code",
   "execution_count": null,
   "metadata": {},
   "outputs": [],
   "source": [
    "if DATASET == 'moving_mnist':\n",
    "    num_inputs, n_channels = 64, 1\n",
    "    num_outputs = 6\n",
    "elif DATASET == 'cifar10':\n",
    "    num_inputs, n_channels = 32, 3\n",
    "    num_outputs = 10"
   ]
  },
  {
   "cell_type": "code",
   "execution_count": null,
   "metadata": {},
   "outputs": [],
   "source": [
    "train_loss_history = []\n",
    "test_loss_history = []\n",
    "embedding_network = EmbeddingNetwork(num_inputs, num_outputs).to(DEVICE)\n",
    "classification_network = ClassificationNetwork(num_inputs, num_outputs).to(DEVICE)\n",
    "\n",
    "criterion_train = nn.CrossEntropyLoss()\n",
    "criterion_test = nn.CrossEntropyLoss(reduction='sum')\n",
    "optimizer = optim.SGD(list(embedding_network.parameters()) + list(classification_network.parameters()), lr=LR)"
   ]
  },
  {
   "cell_type": "code",
   "execution_count": null,
   "metadata": {},
   "outputs": [],
   "source": [
    "def train(embedding_network, classification_network, dataloader, criterion, optimizer, epoch):\n",
    "    embedding_network.train()\n",
    "    classification_network.train()\n",
    "    loss_train = 0.\n",
    "    for batch_idx, (x1, x2, y) in enumerate(dataloader):\n",
    "        x1, x2, y = Variable(x1).to(DEVICE), Variable(x2).to(DEVICE), Variable(y).to(DEVICE)\n",
    "        optimizer.zero_grad()\n",
    "        embedding_output1 = embedding_network(x1)\n",
    "        embedding_output2 = embedding_network(x2)\n",
    "        classification_input = torch.dot(embedding_output1, embedding_output2)\n",
    "        classification_output = classification_network(classification_input)\n",
    "        loss = criterion(classification_output, y)\n",
    "        loss.backward()\n",
    "        optimizer.step()\n",
    "        \n",
    "        # Accurately compute loss, because of different batch size\n",
    "        loss_train += loss.item() * len(x) / len(dataloader.dataset)\n",
    "        \n",
    "        if batch_idx % 100 == 0:\n",
    "            print('Train Epoch: {} [{}/{} ({:.0f}%)]\\tLoss: {:.6f}'.format(\n",
    "                epoch, batch_idx * len(x), len(dataloader.dataset),\n",
    "                100. * batch_idx / len(dataloader), loss.item()))\n",
    "            \n",
    "    optimizer.zero_grad()\n",
    "    return loss_train\n",
    "\n",
    "def test(embedding_network, classification_network, dataloader, criterion):\n",
    "    embedding_network.eval()\n",
    "    classification_network.eval()\n",
    "    loss_test = 0.\n",
    "    y_ls = []\n",
    "    output_ls = []\n",
    "    with torch.no_grad():\n",
    "        for batch_idx, (x1, x2, y) in enumerate(dataloader):\n",
    "            x1, x2, y = Variable(x1).to(DEVICE), Variable(x2).to(DEVICE), Variable(y).to(DEVICE)\n",
    "            embedding_output1 = embedding_network(x1)\n",
    "            embedding_output2 = embedding_network(x2)\n",
    "            classification_input = torch.dot(embedding_output1, embedding_output2)\n",
    "            classification_output = classification_network(classification_input)\n",
    "            loss = criterion(classification_output, y)\n",
    "            \n",
    "            # Accurately compute loss, because of different batch size\n",
    "            loss_test += loss.item() / len(dataloader.dataset)\n",
    "            \n",
    "            output_ls.append(classification_output)\n",
    "            y_ls.append(y)\n",
    "    optimizer.zero_grad()\n",
    "    return loss_test, torch.cat(output_ls, dim=0), torch.cat(y_ls, dim=0)\n",
    "\n",
    "def accuracy(embedding_network, classification_network, dataloader, criterion):\n",
    "    _, y_predicted, y_true = test(\n",
    "        embedding_network=embedding_network,\n",
    "        classification_network=classification_network,\n",
    "        dataloader=dataloader,\n",
    "        criterion=criterion\n",
    "    )\n",
    "    y_predicted = y_predicted.max(1)[1]\n",
    "    return 100*y_predicted.eq(y_true.data.view_as(y_predicted)).float().mean().item()"
   ]
  },
  {
   "cell_type": "code",
   "execution_count": null,
   "metadata": {
    "scrolled": true
   },
   "outputs": [],
   "source": [
    "for epoch in range(1, N_EPOCHS+1):\n",
    "    train_loss = train(\n",
    "        embedding_network=embedding_network,\n",
    "        classification_network=classification_network,\n",
    "        criterion=criterion_train,\n",
    "        dataloader=train_loader,\n",
    "        optimizer=optimizer,\n",
    "        epoch=epoch\n",
    "    )\n",
    "    \n",
    "    test_loss, test_pred, test_true = test(\n",
    "        network=network,\n",
    "        criterion=criterion_test,\n",
    "        dataloader=test_loader\n",
    "    )\n",
    "    \n",
    "    accuracy_train = accuracy(embedding_network, classification_network, train_loader, criterion_test)\n",
    "    accuracy_test = accuracy(embedding_network, classification_network, test_loader, criterion_test)\n",
    "    train_loss_history.append(train_loss)\n",
    "    test_loss_history.append(test_loss)\n",
    "    \n",
    "    print('TRAIN Epoch: {}\\tAverage loss: {:.4f}, Accuracy: {:.0f}%'.format(epoch, train_loss, accuracy_train))\n",
    "    print('TEST  Epoch: {}\\tAverage loss: {:.4f}, Accuracy: {:.0f}%\\n'.format(epoch, test_loss, accuracy_test))"
   ]
  },
  {
   "cell_type": "code",
   "execution_count": null,
   "metadata": {},
   "outputs": [],
   "source": [
    "total_parameters_dict = dict(embedding_network.named_parameters())\n",
    "total_parameters_dict.update(dict(classification_network.named_parameters()))\n",
    "embedding_output1 = embedding_network(train_loader.dataset[0][0].to(DEVICE))\n",
    "embedding_output2 = embedding_network(train_loader.dataset[1][0].to(DEVICE))\n",
    "classification_input = torch.dot(embedding_output1, embedding_output2)\n",
    "classification_output = classification_network(classification_input)\n",
    "make_dot(classification_output, params=total_parameters_dict)"
   ]
  },
  {
   "cell_type": "code",
   "execution_count": null,
   "metadata": {},
   "outputs": [],
   "source": [
    "with torch.onnx.set_training(network, False):\n",
    "    embedding_output1 = embedding_network(train_loader.dataset[0][0].to(DEVICE))\n",
    "    embedding_output2 = embedding_network(train_loader.dataset[1][0].to(DEVICE))\n",
    "    classification_input = torch.dot(embedding_output1, embedding_output2)\n",
    "    trace, _ = torch.jit.get_trace_graph(classification_network, args=(classification_input,))\n",
    "make_dot_from_trace(trace)"
   ]
  },
  {
   "cell_type": "code",
   "execution_count": null,
   "metadata": {},
   "outputs": [],
   "source": [
    "loss_history_df = pd.DataFrame({\n",
    "    'train': train_loss_history,\n",
    "    'test': test_loss_history,\n",
    "})\n",
    "loss_history_df.plot(alpha=0.5, figsize=(10,8))"
   ]
  },
  {
   "cell_type": "code",
   "execution_count": null,
   "metadata": {},
   "outputs": [],
   "source": [
    "def plot_cifar_weights(network):\n",
    "    m = [m for m in network.modules() if isinstance(m, nn.Conv2d)][0]\n",
    "    p = m._parameters['weight'].data\n",
    "    p = p.view(16, 3, 5, 5)\n",
    "    print(\"Dimensions of weights to be plotted:\", p.size())\n",
    "    p = make_grid(p, normalize=True, padding=1)\n",
    "    npimg = p.cpu().numpy()\n",
    "    print(npimg.shape)\n",
    "    \n",
    "    plt.figure(figsize=(10,8))\n",
    "    plt.imshow(np.transpose(npimg, (1, 2, 0)))\n",
    "    plt.gca().axis('off')\n",
    "    plt.show()"
   ]
  },
  {
   "cell_type": "code",
   "execution_count": null,
   "metadata": {},
   "outputs": [],
   "source": [
    "plot_cifar_weights(network)"
   ]
  },
  {
   "cell_type": "code",
   "execution_count": null,
   "metadata": {},
   "outputs": [],
   "source": []
  }
 ],
 "metadata": {
  "kernelspec": {
   "display_name": "Python [conda env:ds]",
   "language": "python",
   "name": "conda-env-ds-py"
  },
  "language_info": {
   "codemirror_mode": {
    "name": "ipython",
    "version": 3
   },
   "file_extension": ".py",
   "mimetype": "text/x-python",
   "name": "python",
   "nbconvert_exporter": "python",
   "pygments_lexer": "ipython3",
   "version": "3.6.6"
  },
  "notify_time": "10"
 },
 "nbformat": 4,
 "nbformat_minor": 2
}
