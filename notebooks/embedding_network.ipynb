{
 "cells": [
  {
   "cell_type": "code",
   "execution_count": null,
   "metadata": {},
   "outputs": [],
   "source": [
    "import torch\n",
    "import torch.nn as nn"
   ]
  },
  {
   "cell_type": "code",
   "execution_count": null,
   "metadata": {},
   "outputs": [],
   "source": [
    "# options\n",
    "DATASET = 'moving_mnist'"
   ]
  },
  {
   "cell_type": "code",
   "execution_count": null,
   "metadata": {},
   "outputs": [],
   "source": [
    "if DATASET == 'moving_mnist':\n",
    "    num_inputs, n_channels = 64, 1\n",
    "    num_outputs = 6\n",
    "elif DATASET == 'cifar10':\n",
    "    num_inputs, n_channels = 32, 3\n",
    "    num_outputs = 10\n",
    "\n",
    "class EmbeddingNetwork(nn.Module):\n",
    "    def __init__(self, num_inputs, num_outputs):\n",
    "        super(EmbeddingNetwork, self).__init__()\n",
    "        self.conv1 = nn.Conv2d(3, 16, kernel_size=5)\n",
    "        self.pool = nn.MaxPool2d(2)\n",
    "        self.conv2 = nn.Conv2d(16, 128, kernel_size=5)\n",
    "        self.fc1 = nn.Linear(128*5*5, 64)\n",
    "        self.fc2 = nn.Linear(64, num_outputs)\n",
    "\n",
    "    def forward(self, input):\n",
    "        input = input.view(-1, 3, 64, 64) # reshape input to batch x num_inputs\n",
    "        output = torch.tanh(self.conv1(input))\n",
    "        output = self.pool(output)\n",
    "        output = torch.tanh(self.conv2(output))\n",
    "        output = self.pool(output)\n",
    "        output = output.view(-1, 128*5*5)\n",
    "        output = self.fc1(output)\n",
    "        output = self.fc2(output)\n",
    "        return output"
   ]
  },
  {
   "cell_type": "code",
   "execution_count": null,
   "metadata": {},
   "outputs": [],
   "source": []
  }
 ],
 "metadata": {
  "kernelspec": {
   "display_name": "Python [conda env:ds]",
   "language": "python",
   "name": "conda-env-ds-py"
  },
  "language_info": {
   "codemirror_mode": {
    "name": "ipython",
    "version": 3
   },
   "file_extension": ".py",
   "mimetype": "text/x-python",
   "name": "python",
   "nbconvert_exporter": "python",
   "pygments_lexer": "ipython3",
   "version": "3.6.6"
  },
  "notify_time": "10"
 },
 "nbformat": 4,
 "nbformat_minor": 2
}
