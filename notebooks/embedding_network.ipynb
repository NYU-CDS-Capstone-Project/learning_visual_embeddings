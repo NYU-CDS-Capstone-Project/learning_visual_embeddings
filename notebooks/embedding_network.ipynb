{
 "cells": [
  {
   "cell_type": "code",
   "execution_count": 1,
   "metadata": {},
   "outputs": [],
   "source": [
    "import torch\n",
    "import torch.nn as nn"
   ]
  },
  {
   "cell_type": "code",
   "execution_count": 2,
   "metadata": {},
   "outputs": [],
   "source": [
    "def conv3x3(in_channels, out_channels, stride=1, padding=1, bias=False):\n",
    "    return nn.Conv2d(in_channels, out_channels, kernel_size=3,\n",
    "                     stride=stride, padding=padding, bias=bias)"
   ]
  },
  {
   "cell_type": "code",
   "execution_count": 3,
   "metadata": {},
   "outputs": [],
   "source": [
    "# Residual block\n",
    "class ResidualBlock(nn.Module):\n",
    "    def __init__(self, in_channels, out_channels, stride=1, downsample=None):\n",
    "        super(ResidualBlock, self).__init__()\n",
    "        self.conv1 = conv3x3(in_channels, out_channels, stride)\n",
    "        self.bn1 = nn.BatchNorm2d(out_channels)\n",
    "        self.conv2 = conv3x3(out_channels, out_channels)\n",
    "        self.bn2 = nn.BatchNorm2d(out_channels)\n",
    "        self.relu = nn.ReLU(inplace=True)\n",
    "        self.downsample = downsample\n",
    "\n",
    "    def forward(self, input):\n",
    "        residual = input\n",
    "        output = self.conv1(input)\n",
    "        output = self.bn1(output)\n",
    "        output = self.relu(output)\n",
    "        output = self.conv2(output)\n",
    "        output = self.bn2(output)\n",
    "        if self.downsample:\n",
    "            residual = self.downsample(input)\n",
    "        output += residual\n",
    "        output = self.relu(output)\n",
    "        return output"
   ]
  },
  {
   "cell_type": "code",
   "execution_count": 32,
   "metadata": {},
   "outputs": [],
   "source": [
    "class EmbeddingNetwork(nn.Module):\n",
    "    def __init__(self, in_dim, in_channels, hidden_size, out_dim, block=ResidualBlock, num_blocks=3):\n",
    "        super(EmbeddingNetwork, self).__init__()\n",
    "        self.in_dim = in_dim\n",
    "        self.in_channels = in_channels\n",
    "\n",
    "        # Conv-ReLU layers with batch-norm and downsampling\n",
    "        self.conv1 = conv3x3(in_channels, 32, stride=2)\n",
    "        self.bn1 = nn.BatchNorm2d(32)\n",
    "        self.conv2 = conv3x3(32, 64, stride=2)\n",
    "        self.bn2 = nn.BatchNorm2d(64)\n",
    "        self.conv3 = conv3x3(64, 64, stride=2)\n",
    "        self.bn3 = nn.BatchNorm2d(64)\n",
    "        self.pool = nn.MaxPool2d(2)\n",
    "        self.relu = nn.ReLU(inplace=True)\n",
    "        self.layers = nn.Sequential(\n",
    "                    conv3x3(in_channels, 32, stride=2),\n",
    "                    nn.BatchNorm2d(32),\n",
    "                    nn.ReLU(inplace=True),\n",
    "                    conv3x3(32, 64, stride=2),\n",
    "                    nn.BatchNorm2d(64),\n",
    "                    nn.ReLU(inplace=True),\n",
    "                    conv3x3(64, 64, stride=2),\n",
    "                    nn.BatchNorm2d(64),\n",
    "                    nn.ReLU(inplace=True),\n",
    "                    self._make_layer(block, 64, 64, num_blocks)\n",
    "                    )\n",
    "        \n",
    "        dummy_var = torch.zeros([1,in_channels,self.in_dim,self.in_dim]).float()\n",
    "        dummy_var_out = self.layers(dummy_var)\n",
    "        fc1_size = 1\n",
    "        for i in range(1,4):\n",
    "            fc1_size*=dummy_var_out.shape[i]\n",
    "        print(fc1_size)\n",
    "        \n",
    "        #fc1_size = \n",
    "        # Residual layers\n",
    "        self.residual_layers = self._make_layer(block, 64, 64, num_blocks)\n",
    "\n",
    "        # Fully connected layers\n",
    "        self.fc1 = nn.Linear(fc1_size, hidden_size)\n",
    "        self.fc2 = nn.Linear(hidden_size, out_dim)\n",
    "\n",
    "        # Initialize weights\n",
    "        #self._init_weights()\n",
    "\n",
    "    def forward(self, input):\n",
    "        # Reshape input to batch_size x in_channels x height x width\n",
    "        input = input.view(-1, self.in_channels, self.in_dim, self.in_dim)\n",
    "\n",
    "        output = self.conv1(input)\n",
    "        output = self.bn1(output)\n",
    "        output = self.relu(output)\n",
    "\n",
    "        output = self.conv2(output)\n",
    "        output = self.bn2(output)\n",
    "        output = self.relu(output)\n",
    "        # output = self.pool(output)\n",
    "\n",
    "        output = self.conv3(output)\n",
    "        output = self.bn3(output)\n",
    "        output = self.relu(output)\n",
    "        # output = self.pool(output)\n",
    "\n",
    "        output = self.residual_layers(output)\n",
    "\n",
    "        output = output.view(output.size(0), -1)\n",
    "        output = self.fc1(output)\n",
    "        output = self.fc2(output)\n",
    "        output_n = torch.norm(output, p=2, dim=1, keepdim=True)\n",
    "        output = output.div(output_n.expand_as(output))\n",
    "        return output\n",
    "\n",
    "    def _make_layer(self, block, in_channels, out_channels, num_blocks, stride=1, downsample=None):\n",
    "        if (not downsample) and ((stride != 1) or (in_channels != out_channels)):\n",
    "            downsample = nn.Sequential(conv3x3(in_channels, out_channels, stride=stride), nn.BatchNorm2d(out_channels))\n",
    "\n",
    "        layers = [block(in_channels, out_channels, stride, downsample)]\n",
    "        for i in range(num_blocks-1):\n",
    "            # For residual blocks, in_channels = out_channels\n",
    "            layers.append(block(out_channels, out_channels))\n",
    "\n",
    "        return nn.Sequential(*layers)\n",
    "\n",
    "    def _init_weights(self):\n",
    "        for m in self.modules():\n",
    "            if isinstance(m, nn.Conv2d):\n",
    "                nn.init.xavier_normal_(m.weight)\n",
    "            elif isinstance(m, nn.BatchNorm2d):\n",
    "                nn.init.constant_(m.weight, 1)\n",
    "                nn.init.constant_(m.bias, 0)\n",
    "            elif isinstance(m, nn.Linear):\n",
    "                nn.init.xavier_normal_(m.weight)\n",
    "                nn.init.uniform_(m.bias)\n"
   ]
  },
  {
   "cell_type": "code",
   "execution_count": 33,
   "metadata": {},
   "outputs": [
    {
     "name": "stdout",
     "output_type": "stream",
     "text": [
      "16384\n"
     ]
    }
   ],
   "source": [
    "model = EmbeddingNetwork(121,1,1024,512)"
   ]
  },
  {
   "cell_type": "code",
   "execution_count": null,
   "metadata": {},
   "outputs": [],
   "source": []
  }
 ],
 "metadata": {
  "kernelspec": {
   "display_name": "Python [conda env:capstone_project]",
   "language": "python",
   "name": "conda-env-capstone_project-py"
  },
  "language_info": {
   "codemirror_mode": {
    "name": "ipython",
    "version": 3
   },
   "file_extension": ".py",
   "mimetype": "text/x-python",
   "name": "python",
   "nbconvert_exporter": "python",
   "pygments_lexer": "ipython3",
   "version": "3.6.5"
  },
  "notify_time": "10"
 },
 "nbformat": 4,
 "nbformat_minor": 2
}
