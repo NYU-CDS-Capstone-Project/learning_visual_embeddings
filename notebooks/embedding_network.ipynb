{
 "cells": [
  {
   "cell_type": "code",
   "execution_count": null,
   "metadata": {},
   "outputs": [],
   "source": [
    "import torch\n",
    "import torch.nn as nn"
   ]
  },
  {
   "cell_type": "code",
   "execution_count": null,
   "metadata": {},
   "outputs": [],
   "source": [
    "def conv3x3(in_channels, out_channels, stride=1, padding=1):\n",
    "    return nn.Conv2d(in_channels, out_channels, kernel_size=3,\n",
    "                     stride=stride, padding=padding, bias=False)"
   ]
  },
  {
   "cell_type": "code",
   "execution_count": null,
   "metadata": {},
   "outputs": [],
   "source": [
    "class EmbeddingNetwork(nn.Module):\n",
    "    def __init__(self, in_dim, in_channels, out_dim):\n",
    "        super(EmbeddingNetwork, self).__init__()\n",
    "        self.in_dim = in_dim\n",
    "        self.in_channels = in_channels\n",
    "        \n",
    "        self.conv1 = conv3x3(2, 32)\n",
    "        self.bn1 = nn.BatchNorm2d(64)\n",
    "        self.conv2 = conv3x3(32, 64)\n",
    "        self.bn2 = nn.BatchNorm2d(64)\n",
    "        self.conv3 = conv3x3(64, 64)\n",
    "        self.bn3 = nn.BatchNorm2d(64)\n",
    "        self.pool = nn.MaxPool2d(2)\n",
    "        self.fc1 = nn.Linear(64*16*16, 64)\n",
    "        self.fc2 = nn.Linear(64, out_dim)\n",
    "\n",
    "    def forward(self, input):\n",
    "        # Reshape input to batch_size x in_channels x height x width\n",
    "        input = input.view(-1, self.in_channels, self.in_dim, self.in_dim)\n",
    "        \n",
    "        output = self.conv1(input)\n",
    "        output = self.bn1(output)\n",
    "        output = torch.Relu(output)\n",
    "        \n",
    "        output = self.conv2(output)\n",
    "        output = self.bn2(output)\n",
    "        output = torch.Relu(output)\n",
    "        output = self.pool(output)\n",
    "        \n",
    "        output = self.conv3(output)\n",
    "        output = self.bn3(output)\n",
    "        output = torch.Relu(output)\n",
    "        output = self.pool(output)\n",
    "        \n",
    "        output = output.view(output.size(0), -1)\n",
    "        output = self.fc1(output)\n",
    "        output = self.fc2(output)\n",
    "        return output"
   ]
  },
  {
   "cell_type": "code",
   "execution_count": null,
   "metadata": {},
   "outputs": [],
   "source": []
  }
 ],
 "metadata": {
  "kernelspec": {
   "display_name": "Python [conda env:ds]",
   "language": "python",
   "name": "conda-env-ds-py"
  },
  "language_info": {
   "codemirror_mode": {
    "name": "ipython",
    "version": 3
   },
   "file_extension": ".py",
   "mimetype": "text/x-python",
   "name": "python",
   "nbconvert_exporter": "python",
   "pygments_lexer": "ipython3",
   "version": "3.6.6"
  },
  "notify_time": "10"
 },
 "nbformat": 4,
 "nbformat_minor": 2
}
