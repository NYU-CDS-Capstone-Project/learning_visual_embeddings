{
 "cells": [
  {
   "cell_type": "code",
   "execution_count": null,
   "metadata": {},
   "outputs": [],
   "source": [
    "import numpy as np\n",
    "import pandas as pd\n",
    "\n",
    "import torch\n",
    "import torch.nn as nn\n",
    "from torchvision import datasets, transforms\n",
    "from torch.autograd import Variable\n",
    "from torchvision.utils import make_grid\n",
    "from torch.utils.data.sampler import Sampler\n",
    "\n",
    "import matplotlib.pyplot as plt\n",
    "%matplotlib inline"
   ]
  },
  {
   "cell_type": "code",
   "execution_count": null,
   "metadata": {},
   "outputs": [],
   "source": [
    "# options\n",
    "DATASET = 'moving_mnist'\n",
    "DEVICE = 'cuda' if torch.cuda.is_available() else 'cpu'"
   ]
  },
  {
   "cell_type": "code",
   "execution_count": null,
   "metadata": {},
   "outputs": [],
   "source": [
    "def imshow(data_loader):\n",
    "    data_iter = iter(data_loader)\n",
    "    images = data_iter.next()\n",
    "\n",
    "    images = make_grid(images[0].reshape(-1, 1, 64, 64), nrow=10)\n",
    "    np_image = images.numpy()\n",
    "\n",
    "    plt.figure(figsize=(50, 20))\n",
    "    plt.imshow(np.transpose(np_image, axes=(1, 2, 0)))"
   ]
  },
  {
   "cell_type": "code",
   "execution_count": null,
   "metadata": {},
   "outputs": [],
   "source": [
    "# Data Loading\n",
    "# Warning: this cell might take some time when you run it for the first time, \n",
    "#          because it will download the datasets from the internet\n",
    "def generate_dataloader(dataset, test_size, val_size, batch_size):\n",
    "    dataset = torch.from_numpy(dataset)\n",
    "    \n",
    "    num_test = int(np.floor(test_size*len(dataset)))\n",
    "    num_train_val = len(dataset) - num_test\n",
    "    num_val = int(np.floor(num_train_val*val_size/(1 - test_size)))\n",
    "    num_train = num_train_val - num_val\n",
    "    \n",
    "    train_dataset, val_dataset, test_dataset = torch.utils.data.random_split(dataset, [num_train, num_val, num_test])\n",
    "    \n",
    "    \n",
    "    \n",
    "    train_loader = torch.utils.data.DataLoader(train_dataset, batch_size=batch_size, shuffle=True, num_workers=0)\n",
    "    val_loader = torch.utils.data.DataLoader(val_dataset, batch_size=batch_size, shuffle=False, num_workers=0)\n",
    "    test_loader  = torch.utils.data.DataLoader(test_dataset, batch_size=batch_size, shuffle=False, num_workers=0)\n",
    "    \n",
    "    imshow(train_loader)\n",
    "    \n",
    "    return train_loader, val_loader, test_loader"
   ]
  },
  {
   "cell_type": "code",
   "execution_count": null,
   "metadata": {},
   "outputs": [],
   "source": []
  }
 ],
 "metadata": {
  "kernelspec": {
   "display_name": "Python [conda env:ds]",
   "language": "python",
   "name": "conda-env-ds-py"
  },
  "language_info": {
   "codemirror_mode": {
    "name": "ipython",
    "version": 3
   },
   "file_extension": ".py",
   "mimetype": "text/x-python",
   "name": "python",
   "nbconvert_exporter": "python",
   "pygments_lexer": "ipython3",
   "version": "3.6.6"
  },
  "notify_time": "10"
 },
 "nbformat": 4,
 "nbformat_minor": 2
}
