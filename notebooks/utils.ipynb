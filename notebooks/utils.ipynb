{
 "cells": [
  {
   "cell_type": "code",
   "execution_count": null,
   "metadata": {},
   "outputs": [],
   "source": [
    "import numpy as np\n",
    "import pandas as pd\n",
    "import torch\n",
    "from torch.autograd import Variable"
   ]
  },
  {
   "cell_type": "code",
   "execution_count": null,
   "metadata": {},
   "outputs": [],
   "source": [
    "def train(embedding_network, classification_network, dataloader, criterion, optimizer, device, epoch):\n",
    "    embedding_network.train()\n",
    "    classification_network.train()\n",
    "    loss_train = 0.\n",
    "    for batch_idx, (x1, x2, y) in enumerate(dataloader):\n",
    "        x1, x2, y = Variable(x1).to(device), Variable(x2).to(device), Variable(y).to(device)\n",
    "        optimizer.zero_grad()\n",
    "        embedding_output1 = embedding_network(x1)\n",
    "        embedding_output2 = embedding_network(x2)\n",
    "        classification_output = classification_network(embedding_output1, embedding_output2)\n",
    "        loss = criterion(classification_output, y)\n",
    "        loss.backward()\n",
    "        optimizer.step()\n",
    "\n",
    "        # Accurately compute loss, because of different batch size\n",
    "        loss_train += loss.item() * len(x) / len(dataloader.dataset)\n",
    "\n",
    "        if batch_idx % 100 == 0:\n",
    "            print('Train Epoch: {} [{}/{} ({:.0f}%)]\\tLoss: {:.6f}'.format(\n",
    "                epoch, batch_idx * len(x), len(dataloader.dataset),\n",
    "                100. * batch_idx / len(dataloader), loss.item()))\n",
    "\n",
    "    optimizer.zero_grad()\n",
    "    return loss_train"
   ]
  },
  {
   "cell_type": "code",
   "execution_count": null,
   "metadata": {},
   "outputs": [],
   "source": [
    "def test(embedding_network, classification_network, dataloader, criterion, device):\n",
    "    embedding_network.eval()\n",
    "    classification_network.eval()\n",
    "    loss_test = 0.\n",
    "    y_ls = []\n",
    "    output_ls = []\n",
    "    with torch.no_grad():\n",
    "        for batch_idx, (x1, x2, y) in enumerate(dataloader):\n",
    "            x1, x2, y = Variable(x1).to(device), Variable(x2).to(device), Variable(y).to(device)\n",
    "            embedding_output1 = embedding_network(x1)\n",
    "            embedding_output2 = embedding_network(x2)\n",
    "            classification_output = classification_network(embedding_output1, embedding_output2)\n",
    "            loss = criterion(classification_output, y)\n",
    "\n",
    "            # Accurately compute loss, because of different batch size\n",
    "            loss_test += loss.item() / len(dataloader.dataset)\n",
    "\n",
    "            output_ls.append(classification_output)\n",
    "            y_ls.append(y)\n",
    "    optimizer.zero_grad()\n",
    "    return loss_test, torch.cat(output_ls, dim=0), torch.cat(y_ls, dim=0)"
   ]
  },
  {
   "cell_type": "code",
   "execution_count": null,
   "metadata": {},
   "outputs": [],
   "source": [
    "def accuracy(embedding_network, classification_network, dataloader, criterion, device):\n",
    "    _, y_predicted, y_true = test(\n",
    "        embedding_network=embedding_network,\n",
    "        classification_network=classification_network,\n",
    "        dataloader=dataloader,\n",
    "        criterion=criterion,\n",
    "        device=device\n",
    "    )\n",
    "\n",
    "    y_predicted = y_predicted.max(1)[1]\n",
    "    return 100*y_predicted.eq(y_true.data.view_as(y_predicted)).float().mean().item()"
   ]
  },
  {
   "cell_type": "code",
   "execution_count": null,
   "metadata": {},
   "outputs": [],
   "source": [
    "def save_plot(project_dir, fig, filename):\n",
    "    plot_path = os.path.join(project_dir, 'plots')\n",
    "    if not os.path.exists(plot_path):\n",
    "        os.makedirs(plot_path)\n",
    "    fig.savefig(os.path.join(plot_path, filename))"
   ]
  },
  {
   "cell_type": "code",
   "execution_count": null,
   "metadata": {},
   "outputs": [],
   "source": []
  }
 ],
 "metadata": {
  "kernelspec": {
   "display_name": "Python [conda env:ds]",
   "language": "python",
   "name": "conda-env-ds-py"
  },
  "language_info": {
   "codemirror_mode": {
    "name": "ipython",
    "version": 3
   },
   "file_extension": ".py",
   "mimetype": "text/x-python",
   "name": "python",
   "nbconvert_exporter": "python",
   "pygments_lexer": "ipython3",
   "version": "3.6.6"
  }
 },
 "nbformat": 4,
 "nbformat_minor": 2
}
